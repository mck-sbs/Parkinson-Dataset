{
  "nbformat": 4,
  "nbformat_minor": 0,
  "metadata": {
    "colab": {
      "name": "Parkinson-Dataset.ipynb",
      "provenance": [],
      "collapsed_sections": []
    },
    "kernelspec": {
      "name": "python3",
      "display_name": "Python 3"
    }
  },
  "cells": [
    {
      "cell_type": "markdown",
      "metadata": {
        "id": "pbkhZdrI7KPc"
      },
      "source": [
        "Use the Parkinson dataset for detectin Parkinson's disease."
      ]
    },
    {
      "cell_type": "code",
      "metadata": {
        "id": "LmRVXrCIcSIX",
        "colab": {
          "base_uri": "https://localhost:8080/"
        },
        "outputId": "f478cb26-1ae6-4b5b-d348-f79bb70ff3c3"
      },
      "source": [
        "import datetime, os\n",
        "import pandas as pd\n",
        "from xgboost import XGBClassifier\n",
        "from sklearn.model_selection import cross_val_score\n",
        "from sklearn.preprocessing import MinMaxScaler\n",
        "from sklearn.utils import shuffle\n",
        "from imblearn.over_sampling import SMOTE\n",
        "\n",
        "url = \"https://archive.ics.uci.edu/ml/machine-learning-databases/parkinsons/parkinsons.data\"\n",
        "data=pd.read_csv(url, delimiter=',', encoding=\"utf-8\")\n",
        "pd.set_option('display.expand_frame_repr', False)\n",
        "print(data.head())"
      ],
      "execution_count": null,
      "outputs": [
        {
          "output_type": "stream",
          "name": "stdout",
          "text": [
            "             name  MDVP:Fo(Hz)  MDVP:Fhi(Hz)  MDVP:Flo(Hz)  MDVP:Jitter(%)  MDVP:Jitter(Abs)  MDVP:RAP  MDVP:PPQ  Jitter:DDP  MDVP:Shimmer  MDVP:Shimmer(dB)  Shimmer:APQ3  Shimmer:APQ5  MDVP:APQ  Shimmer:DDA      NHR     HNR  status      RPDE       DFA   spread1   spread2        D2       PPE\n",
            "0  phon_R01_S01_1      119.992       157.302        74.997         0.00784           0.00007   0.00370   0.00554     0.01109       0.04374             0.426       0.02182       0.03130   0.02971      0.06545  0.02211  21.033       1  0.414783  0.815285 -4.813031  0.266482  2.301442  0.284654\n",
            "1  phon_R01_S01_2      122.400       148.650       113.819         0.00968           0.00008   0.00465   0.00696     0.01394       0.06134             0.626       0.03134       0.04518   0.04368      0.09403  0.01929  19.085       1  0.458359  0.819521 -4.075192  0.335590  2.486855  0.368674\n",
            "2  phon_R01_S01_3      116.682       131.111       111.555         0.01050           0.00009   0.00544   0.00781     0.01633       0.05233             0.482       0.02757       0.03858   0.03590      0.08270  0.01309  20.651       1  0.429895  0.825288 -4.443179  0.311173  2.342259  0.332634\n",
            "3  phon_R01_S01_4      116.676       137.871       111.366         0.00997           0.00009   0.00502   0.00698     0.01505       0.05492             0.517       0.02924       0.04005   0.03772      0.08771  0.01353  20.644       1  0.434969  0.819235 -4.117501  0.334147  2.405554  0.368975\n",
            "4  phon_R01_S01_5      116.014       141.781       110.655         0.01284           0.00011   0.00655   0.00908     0.01966       0.06425             0.584       0.03490       0.04825   0.04465      0.10470  0.01767  19.649       1  0.417356  0.823484 -3.747787  0.234513  2.332180  0.410335\n"
          ]
        }
      ]
    },
    {
      "cell_type": "code",
      "metadata": {
        "id": "3AuVhj3ddNxO",
        "colab": {
          "base_uri": "https://localhost:8080/"
        },
        "outputId": "0c748c6d-4d65-457a-e683-95e0ebcbfbe9"
      },
      "source": [
        "cols_with_missing = [col for col in data.columns if data[col].isnull().any()]\n",
        "print(cols_with_missing)\n",
        "missing_val_count_by_column = (data.isnull().sum())\n",
        "print(missing_val_count_by_column[missing_val_count_by_column > 0])"
      ],
      "execution_count": null,
      "outputs": [
        {
          "output_type": "stream",
          "name": "stdout",
          "text": [
            "[]\n",
            "Series([], dtype: int64)\n"
          ]
        }
      ]
    },
    {
      "cell_type": "code",
      "metadata": {
        "id": "QjSgEO7ww4c4",
        "colab": {
          "base_uri": "https://localhost:8080/"
        },
        "outputId": "ee6562dc-7550-4380-bc21-b334faafe108"
      },
      "source": [
        "label = data[\"status\"]\n",
        "data.drop([\"status\", \"name\"], axis = 1, inplace=True)\n",
        "target_count = label.value_counts()\n",
        "print('Class 0:', target_count[0])\n",
        "print('Class 1:', target_count[1])\n",
        "print('Proportion:', round(target_count[0] / target_count[1], 2), ': 1')\n",
        "\n",
        "data, label =shuffle(data, label, random_state = 1)"
      ],
      "execution_count": null,
      "outputs": [
        {
          "output_type": "stream",
          "name": "stdout",
          "text": [
            "Class 0: 48\n",
            "Class 1: 147\n",
            "Proportion: 0.33 : 1\n"
          ]
        }
      ]
    },
    {
      "cell_type": "code",
      "source": [
        "smote = SMOTE()\n",
        "\n",
        "data, label = smote.fit_resample(data, label)\n",
        "target_count = label.value_counts()\n",
        "print('Class 0:', target_count[0])\n",
        "print('Class 1:', target_count[1])\n",
        "print('Proportion:', round(target_count[0] / target_count[1], 2), ': 1')\n",
        "\n",
        "data, label =shuffle(data, label, random_state = 2)"
      ],
      "metadata": {
        "id": "boqHeId-qla6",
        "colab": {
          "base_uri": "https://localhost:8080/"
        },
        "outputId": "debb7003-6511-48e6-e7e1-c4ee8e0709f2"
      },
      "execution_count": null,
      "outputs": [
        {
          "output_type": "stream",
          "name": "stdout",
          "text": [
            "Class 0: 147\n",
            "Class 1: 147\n",
            "Proportion: 1.0 : 1\n"
          ]
        }
      ]
    },
    {
      "cell_type": "code",
      "metadata": {
        "id": "nupP9FkeiTqE",
        "colab": {
          "base_uri": "https://localhost:8080/"
        },
        "outputId": "ad71a6a4-dbba-4566-a56d-e47a37ea1e50"
      },
      "source": [
        "correlations = data[data.columns].corr()\n",
        "print('Absolute overall correlations')\n",
        "print('-' * 30)\n",
        "correlations_abs_sum = correlations[correlations.columns].abs().sum()\n",
        "print('Weakest correlations')\n",
        "print('-' * 30)\n",
        "print(correlations_abs_sum.nsmallest(5))\n",
        "\n",
        "data.drop([\"MDVP:Fhi(Hz)\"], axis = 1, inplace=True)"
      ],
      "execution_count": null,
      "outputs": [
        {
          "output_type": "stream",
          "name": "stdout",
          "text": [
            "Absolute overall correlations\n",
            "------------------------------\n",
            "Weakest correlations\n",
            "------------------------------\n",
            "MDVP:Fhi(Hz)    3.544941\n",
            "DFA             5.546412\n",
            "MDVP:Flo(Hz)    6.745387\n",
            "MDVP:Fo(Hz)     7.113839\n",
            "RPDE            9.283083\n",
            "dtype: float64\n"
          ]
        }
      ]
    },
    {
      "cell_type": "code",
      "source": [
        "#scaler=MinMaxScaler((-1,1))\n",
        "#data=scaler.fit_transform(data)"
      ],
      "metadata": {
        "id": "keHwKYN76yWC"
      },
      "execution_count": null,
      "outputs": []
    },
    {
      "cell_type": "code",
      "metadata": {
        "id": "oh7Ft-RkbhcH",
        "colab": {
          "base_uri": "https://localhost:8080/"
        },
        "outputId": "4c20f99c-9ea2-4f16-e726-7471576f5744"
      },
      "source": [
        "model = XGBClassifier(random_state=3, n_estimators=2000)\n",
        "\n",
        "scores = cross_val_score(model, data, label, cv=10, scoring = \"accuracy\")\n",
        "print(\"Accuracy: %0.3f\" % (scores.mean()))"
      ],
      "execution_count": null,
      "outputs": [
        {
          "output_type": "stream",
          "name": "stdout",
          "text": [
            "Accuracy: 0.966\n"
          ]
        }
      ]
    }
  ]
}